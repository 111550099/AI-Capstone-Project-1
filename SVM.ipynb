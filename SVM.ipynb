{
 "cells": [
  {
   "cell_type": "markdown",
   "metadata": {},
   "source": [
    "## Load Image"
   ]
  },
  {
   "cell_type": "code",
   "execution_count": 26,
   "metadata": {},
   "outputs": [
    {
     "name": "stdout",
     "output_type": "stream",
     "text": [
      "load image done\n",
      "\n"
     ]
    }
   ],
   "source": [
    "import os\n",
    "import cv2\n",
    "\n",
    "dataset_dir = 'big_dataset'\n",
    "\n",
    "images = []\n",
    "labels = []\n",
    "\n",
    "for label_name in os.listdir(dataset_dir):\n",
    "    label_path = os.path.join(dataset_dir, label_name)\n",
    "    for filename in os.listdir(label_path):\n",
    "        image_path = os.path.join(label_path, filename)\n",
    "        image = cv2.imread(image_path)\n",
    "        image = cv2.resize(image, (128, 128))\n",
    "        images.append(image)\n",
    "        labels.append(label_name)\n",
    "\n",
    "print(\"load image done\\n\")"
   ]
  },
  {
   "cell_type": "markdown",
   "metadata": {},
   "source": [
    "## Feature(HOG)"
   ]
  },
  {
   "cell_type": "code",
   "execution_count": 16,
   "metadata": {},
   "outputs": [],
   "source": [
    "import cv2\n",
    "from skimage.feature import hog\n",
    "\n",
    "features = []\n",
    "for image in images:\n",
    "    gray = cv2.cvtColor(image, cv2.COLOR_BGR2GRAY)\n",
    "    gray = cv2.resize(gray, (128, 128))\n",
    "    feature, _ = hog(gray, orientations=9, pixels_per_cell=(8, 8), cells_per_block=(2, 2), block_norm='L2-Hys', visualize=True)\n",
    "    features.append(feature)"
   ]
  },
  {
   "cell_type": "markdown",
   "metadata": {},
   "source": [
    "## Feature(edge)"
   ]
  },
  {
   "cell_type": "code",
   "execution_count": 29,
   "metadata": {},
   "outputs": [],
   "source": [
    "import cv2\n",
    "import numpy as np\n",
    "\n",
    "features = []\n",
    "for image in images:\n",
    "    gray = cv2.cvtColor(image, cv2.COLOR_BGR2GRAY)\n",
    "    gray = cv2.resize(gray, (128, 128))\n",
    "    edges = cv2.Canny(gray, threshold1=100, threshold2=200)\n",
    "    feature = edges.flatten()  # 攤平成一維向量\n",
    "    features.append(feature)\n"
   ]
  },
  {
   "cell_type": "markdown",
   "metadata": {},
   "source": [
    "## Dataset"
   ]
  },
  {
   "cell_type": "code",
   "execution_count": 30,
   "metadata": {},
   "outputs": [],
   "source": [
    "from sklearn.model_selection import train_test_split\n",
    "\n",
    "feature_train_val, feature_test, labels_train_val, labels_test = train_test_split(features,labels,test_size=0.20)"
   ]
  },
  {
   "cell_type": "markdown",
   "metadata": {},
   "source": [
    "## Train"
   ]
  },
  {
   "cell_type": "code",
   "execution_count": 31,
   "metadata": {},
   "outputs": [
    {
     "name": "stdout",
     "output_type": "stream",
     "text": [
      "Best parameters: {'C': 0.1, 'gamma': 0.01, 'kernel': 'linear'}\n",
      "Best cross-validation score: 0.58203125\n"
     ]
    }
   ],
   "source": [
    "from sklearn.svm import SVC\n",
    "from sklearn.model_selection import GridSearchCV\n",
    "\n",
    "param_grid = {\n",
    "    'C': [0.1, 1, 10],\n",
    "    'gamma': [0.01, 0.1, 1],\n",
    "    'kernel': ['rbf', 'linear', 'poly']\n",
    "}\n",
    "\n",
    "model_ovr = GridSearchCV(SVC(kernel='linear', decision_function_shape='ovr'), param_grid, cv=4)\n",
    "model_ovr.fit(feature_train_val, labels_train_val)\n",
    "\n",
    "print(\"Best parameters:\", model_ovr.best_params_)\n",
    "print(\"Best cross-validation score:\", model_ovr.best_score_)"
   ]
  },
  {
   "cell_type": "markdown",
   "metadata": {},
   "source": [
    "## Test"
   ]
  },
  {
   "cell_type": "code",
   "execution_count": 32,
   "metadata": {},
   "outputs": [
    {
     "name": "stdout",
     "output_type": "stream",
     "text": [
      "One VS All Accuracy: 0.65625\n"
     ]
    }
   ],
   "source": [
    "from sklearn.svm import SVC\n",
    "from sklearn.metrics import accuracy_score\n",
    "\n",
    "# y_pred = model_ovo.predict(feature_test)\n",
    "# print(\"One VS One Accuracy:\", accuracy_score(labels_test, y_pred))\n",
    "\n",
    "y_pred = model_ovr.predict(feature_test)\n",
    "print(\"One VS All Accuracy:\", accuracy_score(labels_test, y_pred))"
   ]
  },
  {
   "cell_type": "markdown",
   "metadata": {},
   "source": [
    "## Confusion Matrix"
   ]
  },
  {
   "cell_type": "code",
   "execution_count": 33,
   "metadata": {},
   "outputs": [
    {
     "name": "stdout",
     "output_type": "stream",
     "text": [
      "[[13  0  3  0]\n",
      " [ 1 10  3  3]\n",
      " [ 0  2  9  0]\n",
      " [ 1  7  2 10]]\n"
     ]
    },
    {
     "data": {
      "image/png": "[encoded data removed]",
      "text/plain": [
       "<Figure size 640x480 with 2 Axes>"
      ]
     },
     "metadata": {},
     "output_type": "display_data"
    }
   ],
   "source": [
    "import matplotlib.pyplot as plt\n",
    "from sklearn.metrics import ConfusionMatrixDisplay\n",
    "\n",
    "disp = ConfusionMatrixDisplay.from_estimator(\n",
    "        model_ovr,\n",
    "        feature_test,\n",
    "        labels_test,\n",
    "        cmap=plt.cm.Blues,\n",
    "        normalize=None,\n",
    "    )\n",
    "disp.ax_.set_title(\"Confusion matrix\")\n",
    "\n",
    "print(disp.confusion_matrix)\n",
    "\n",
    "#plt.show()"
   ]
  }
 ],
 "metadata": {
  "kernelspec": {
   "display_name": "Python 3",
   "language": "python",
   "name": "python3"
  },
  "language_info": {
   "codemirror_mode": {
    "name": "ipython",
    "version": 3
   },
   "file_extension": ".py",
   "mimetype": "text/x-python",
   "name": "python",
   "nbconvert_exporter": "python",
   "pygments_lexer": "ipython3",
   "version": "3.8.8"
  }
 },
 "nbformat": 4,
 "nbformat_minor": 2
}
