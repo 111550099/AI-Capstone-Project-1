{
 "cells": [
  {
   "cell_type": "markdown",
   "metadata": {},
   "source": [
    "## Load Image"
   ]
  },
  {
   "cell_type": "code",
   "execution_count": 63,
   "metadata": {},
   "outputs": [
    {
     "name": "stdout",
     "output_type": "stream",
     "text": [
      "load image done\n",
      "\n"
     ]
    }
   ],
   "source": [
    "import os\n",
    "import cv2\n",
    "\n",
    "dataset_dir = 'small_dataset'\n",
    "\n",
    "images = []\n",
    "labels = []\n",
    "\n",
    "for label_name in os.listdir(dataset_dir):\n",
    "    label_path = os.path.join(dataset_dir, label_name)\n",
    "    for filename in os.listdir(label_path):\n",
    "        image_path = os.path.join(label_path, filename)\n",
    "        image = cv2.imread(image_path)\n",
    "        image = cv2.resize(image, (128, 128))\n",
    "        images.append(image)\n",
    "        labels.append(label_name)\n",
    "print(\"load image done\\n\")"
   ]
  },
  {
   "cell_type": "markdown",
   "metadata": {},
   "source": [
    "## Dataset"
   ]
  },
  {
   "cell_type": "code",
   "execution_count": 85,
   "metadata": {},
   "outputs": [],
   "source": [
    "\n",
    "from sklearn.preprocessing import LabelEncoder\n",
    "from tensorflow.keras.utils import to_categorical\n",
    "from sklearn.model_selection import train_test_split\n",
    "import numpy as np\n",
    "\n",
    "images = np.array(images)\n",
    "labels = np.array(labels)\n",
    "\n",
    "labels = LabelEncoder().fit_transform(labels)\n",
    "\n",
    "x_train_val, x_test, y_train_val, y_test = train_test_split(images,labels,test_size=0.20)\n",
    "x_train, x_val, y_train, y_val = train_test_split(x_train_val, y_train_val, test_size=0.25)\n",
    "\n",
    "y_train = to_categorical(y_train)\n",
    "y_val = to_categorical(y_val)\n",
    "y_test = to_categorical(y_test)"
   ]
  },
  {
   "cell_type": "markdown",
   "metadata": {},
   "source": [
    "# Train"
   ]
  },
  {
   "cell_type": "code",
   "execution_count": 86,
   "metadata": {},
   "outputs": [
    {
     "name": "stdout",
     "output_type": "stream",
     "text": [
      "Epoch 1/10\n",
      "3/3 [==============================] - 1s 269ms/step - loss: 1717.0897 - accuracy: 0.2500 - val_loss: 1636.7545 - val_accuracy: 0.1875\n",
      "Epoch 2/10\n",
      "3/3 [==============================] - 1s 233ms/step - loss: 979.2778 - accuracy: 0.2188 - val_loss: 102.0372 - val_accuracy: 0.2812\n",
      "Epoch 3/10\n",
      "3/3 [==============================] - 1s 213ms/step - loss: 154.2523 - accuracy: 0.2812 - val_loss: 11.4857 - val_accuracy: 0.4688\n",
      "Epoch 4/10\n",
      "3/3 [==============================] - 1s 211ms/step - loss: 36.8474 - accuracy: 0.3333 - val_loss: 8.5998 - val_accuracy: 0.5000\n",
      "Epoch 5/10\n",
      "3/3 [==============================] - 1s 215ms/step - loss: 7.4479 - accuracy: 0.5729 - val_loss: 4.4642 - val_accuracy: 0.5938\n",
      "Epoch 6/10\n",
      "3/3 [==============================] - 1s 205ms/step - loss: 2.6466 - accuracy: 0.7292 - val_loss: 2.6822 - val_accuracy: 0.5625\n",
      "Epoch 7/10\n",
      "3/3 [==============================] - 1s 205ms/step - loss: 0.8810 - accuracy: 0.7292 - val_loss: 2.3174 - val_accuracy: 0.5938\n",
      "Epoch 8/10\n",
      "3/3 [==============================] - 1s 206ms/step - loss: 0.3218 - accuracy: 0.8646 - val_loss: 2.1474 - val_accuracy: 0.4688\n",
      "Epoch 9/10\n",
      "3/3 [==============================] - 1s 200ms/step - loss: 0.3298 - accuracy: 0.8750 - val_loss: 1.8355 - val_accuracy: 0.4688\n",
      "Epoch 10/10\n",
      "3/3 [==============================] - 1s 206ms/step - loss: 0.2334 - accuracy: 0.9167 - val_loss: 1.6271 - val_accuracy: 0.5000\n"
     ]
    },
    {
     "data": {
      "text/plain": [
       "<keras.callbacks.History at 0x1c82bf09df0>"
      ]
     },
     "execution_count": 86,
     "metadata": {},
     "output_type": "execute_result"
    }
   ],
   "source": [
    "from tensorflow.keras.models import Sequential\n",
    "from tensorflow.keras.layers import Conv2D, MaxPooling2D, Flatten, Dense, Dropout\n",
    "\n",
    "model = Sequential([\n",
    "    Conv2D(32, (3, 3), activation='relu', input_shape=(128, 128, 3)),\n",
    "    MaxPooling2D(2, 2),\n",
    "    \n",
    "    Conv2D(64, (3, 3), activation='relu'),\n",
    "    MaxPooling2D(2, 2),\n",
    "\n",
    "    Flatten(),\n",
    "    Dense(128, activation='relu'),\n",
    "    Dropout(0.5),\n",
    "    Dense(len(np.unique(labels)), activation='softmax')\n",
    "])\n",
    "\n",
    "\n",
    "model.compile(optimizer='adam', loss='categorical_crossentropy', metrics=['accuracy'])\n",
    "model.fit(x_train, y_train, validation_data=(x_val, y_val), epochs=10, batch_size=32)\n"
   ]
  },
  {
   "cell_type": "markdown",
   "metadata": {},
   "source": [
    "## Test"
   ]
  },
  {
   "cell_type": "code",
   "execution_count": 87,
   "metadata": {},
   "outputs": [
    {
     "name": "stdout",
     "output_type": "stream",
     "text": [
      "1/1 [==============================] - 0s 44ms/step - loss: 1.2607 - accuracy: 0.6875\n",
      "Test Accuracy: 0.69\n"
     ]
    }
   ],
   "source": [
    "loss, accuracy = model.evaluate(x_test, y_test)\n",
    "print(f\"Test Accuracy: {accuracy:.2f}\")"
   ]
  },
  {
   "cell_type": "markdown",
   "metadata": {},
   "source": [
    "## Confution matrix"
   ]
  },
  {
   "cell_type": "code",
   "execution_count": 5,
   "metadata": {},
   "outputs": [
    {
     "name": "stdout",
     "output_type": "stream",
     "text": [
      "[[14  3  0  0]\n",
      " [ 1 13  2  1]\n",
      " [ 2  5  8  0]\n",
      " [ 1  4  1  9]]\n"
     ]
    }
   ],
   "source": [
    "from sklearn.metrics import confusion_matrix, classification_report\n",
    "import seaborn as sns\n",
    "import matplotlib.pyplot as plt\n",
    "import numpy as np\n",
    "\n",
    "y_pred = model.predict(x_test)\n",
    "\n",
    "y_pred_classes = np.argmax(y_pred, axis=1)\n",
    "y_true = np.argmax(y_test, axis=1)\n",
    "\n",
    "# 3. 計算混淆矩陣\n",
    "cm = confusion_matrix(y_true, y_pred_classes)\n",
    "\n",
    "print(cm)\n",
    "# 4. 畫圖\n",
    "# plt.figure(figsize=(8,6))\n",
    "# sns.heatmap(cm, annot=True, fmt='d', cmap='Blues', xticklabels=label_names, yticklabels=label_names)\n",
    "# plt.xlabel('Predicted')\n",
    "# plt.ylabel('True')\n",
    "# plt.title('Confusion Matrix')\n",
    "# plt.show()"
   ]
  }
 ],
 "metadata": {
  "kernelspec": {
   "display_name": "Python 3",
   "language": "python",
   "name": "python3"
  },
  "language_info": {
   "codemirror_mode": {
    "name": "ipython",
    "version": 3
   },
   "file_extension": ".py",
   "mimetype": "text/x-python",
   "name": "python",
   "nbconvert_exporter": "python",
   "pygments_lexer": "ipython3",
   "version": "3.8.8"
  }
 },
 "nbformat": 4,
 "nbformat_minor": 2
}
